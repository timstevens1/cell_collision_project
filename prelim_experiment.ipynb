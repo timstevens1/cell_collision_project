{
 "cells": [
  {
   "cell_type": "code",
   "execution_count": 312,
   "metadata": {},
   "outputs": [],
   "source": [
    "import numpy as np\n",
    "import pandas as pd\n",
    "from collections import Counter\n",
    "from sklearn.model_selection import train_test_split\n",
    "from sklearn.ensemble import RandomForestClassifier\n",
    "from sklearn.tree import DecisionTreeClassifier, plot_tree\n",
    "from sklearn.linear_model import LogisticRegression\n",
    "from sklearn.metrics import mean_squared_error as mse\n",
    "from sklearn.metrics import classification_report, confusion_matrix, plot_roc_curve"
   ]
  },
  {
   "cell_type": "code",
   "execution_count": 194,
   "metadata": {},
   "outputs": [],
   "source": [
    "data = pd.read_excel('Data/Formatted_Small_V5_segments.xlsx')\n",
    "data_n = pd.read_excel('Data/Small_V5_tracks.xlsx')\n",
    "data.columns = ['trash', 'id', 'time', 'x', 'y', 'z']\n",
    "data = data[['id', 'time', 'x', 'y', 'z']]"
   ]
  },
  {
   "cell_type": "code",
   "execution_count": 195,
   "metadata": {},
   "outputs": [],
   "source": [
    "cells = sorted(list(set(data['id'])))\n",
    "times = sorted(list(set(data['time'])))"
   ]
  },
  {
   "cell_type": "code",
   "execution_count": 196,
   "metadata": {},
   "outputs": [],
   "source": [
    "types = []\n",
    "for n in data_n['Name']:\n",
    "    d = n.split('_')\n",
    "    if len(d) < 2:\n",
    "        types.append('TrackUnif')\n",
    "    else:\n",
    "        types.append(d[1])\n",
    "        \n",
    "t_list = set(types)\n",
    "t_dict = {t: i for i, t in enumerate(t_list)}\n",
    "type_ints = [t_dict[t] for t in types]\n",
    "data_n['Type'] = type_ints"
   ]
  },
  {
   "cell_type": "code",
   "execution_count": 197,
   "metadata": {},
   "outputs": [
    {
     "data": {
      "text/plain": [
       "(1189, 630)"
      ]
     },
     "execution_count": 197,
     "metadata": {},
     "output_type": "execute_result"
    }
   ],
   "source": [
    "format_data = np.zeros((len(cells), 3*len(times)))\n",
    "format_data.shape"
   ]
  },
  {
   "cell_type": "code",
   "execution_count": 198,
   "metadata": {},
   "outputs": [
    {
     "name": "stdout",
     "output_type": "stream",
     "text": [
      "{'SYN': 0, 'DEAD': 1, 'UNINF': 2, 'MONO': 3}\n"
     ]
    }
   ],
   "source": [
    "print(t_dict)"
   ]
  },
  {
   "cell_type": "code",
   "execution_count": 199,
   "metadata": {},
   "outputs": [],
   "source": [
    "def format_cell(cell, num_back=10):\n",
    "    \"\"\"\n",
    "    Creates a matrix of `num_back` length paths from `cell`s data.\n",
    "    If a cell has fewer than `num_back` time points, it discards the data.\n",
    "    If a cell has more than `num_back` time points, each `num_back` length\n",
    "    path constitutes one row in the returned matrix\n",
    "    \n",
    "    cell: the cell id\n",
    "    num_back: the path length\n",
    "    \n",
    "    returns: ds, the path matrix with 3*num_back columns\n",
    "    \"\"\"\n",
    "    d = data[data['id'] == cell]\n",
    "    ts = sorted(d['time'])\n",
    "    ds = np.zeros((len(ts)//num_back + 1, num_back*3 + 1))\n",
    "    for i, t in enumerate(ts):\n",
    "        if d[d['time'] == t][['x', 'y', 'z']].to_numpy().shape[0] > 1:\n",
    "            print(d[d['time'] == t][['x', 'y', 'z']].to_numpy().shape)\n",
    "            continue\n",
    "        ds[i//num_back, i%num_back*3:i%num_back*3+3] = d[d['time'] == t][['x', 'y', 'z']].to_numpy()\n",
    "    for i in range(ds.shape[0]):\n",
    "        ofs = ds[i, 0:3]\n",
    "        for j in range(num_back):\n",
    "            ds[i, 3*j:3*j+3] = ds[i, 3*j:3*j+3] #- ofs\n",
    "    ds[:,-1] = data_n[(data_n['Id'] == cell)]['Type']\n",
    "    if ds[-1,-2] == 0:\n",
    "        return ds[:-1, :]\n",
    "    return ds\n",
    "        \n",
    "    \n",
    "#format_cell(1262868), data[data['id'] == 1262868]"
   ]
  },
  {
   "cell_type": "code",
   "execution_count": 200,
   "metadata": {},
   "outputs": [],
   "source": [
    "# creating a the matrix of paths to train models on\n",
    "\n",
    "num_back = 10\n",
    "cell_arrays = []\n",
    "for c in cells:\n",
    "    times = data[data['id'] == c]['time']\n",
    "    r = max(times) - min(times)\n",
    "    if r < 4*num_back:\n",
    "        continue\n",
    "    cell_arrays.append(format_cell(c, num_back))\n",
    "    "
   ]
  },
  {
   "cell_type": "code",
   "execution_count": 201,
   "metadata": {},
   "outputs": [
    {
     "data": {
      "text/plain": [
       "(11027, 31)"
      ]
     },
     "execution_count": 201,
     "metadata": {},
     "output_type": "execute_result"
    }
   ],
   "source": [
    "fmt_data = np.vstack(cell_arrays)\n",
    "fmt_data.shape"
   ]
  },
  {
   "cell_type": "code",
   "execution_count": 359,
   "metadata": {},
   "outputs": [
    {
     "data": {
      "text/plain": [
       "(9584, 31)"
      ]
     },
     "execution_count": 359,
     "metadata": {},
     "output_type": "execute_result"
    }
   ],
   "source": [
    "mask = fmt_data[:,-1] != t_dict['DEAD']\n",
    "fmt_data = fmt_data[mask, :]\n",
    "fmt_data.shape"
   ]
  },
  {
   "cell_type": "code",
   "execution_count": 360,
   "metadata": {},
   "outputs": [],
   "source": [
    "# y is the last point in the path. X is the first num_back - 1 points\n",
    "# X,y = fmt_data[:, :-4], fmt_data[:, -3:-1]\n",
    "\n",
    "X, y = fmt_data[:, :-1], fmt_data[:, -1]"
   ]
  },
  {
   "cell_type": "code",
   "execution_count": 361,
   "metadata": {},
   "outputs": [],
   "source": [
    "y = y.astype(np.int32)\n",
    "y = y == 2"
   ]
  },
  {
   "cell_type": "code",
   "execution_count": 369,
   "metadata": {},
   "outputs": [],
   "source": [
    "x_train, x_test, y_train, y_test = train_test_split(X, y, test_size=.25)"
   ]
  },
  {
   "cell_type": "code",
   "execution_count": 363,
   "metadata": {},
   "outputs": [],
   "source": [
    "train = np.hstack((x_train, np.atleast_2d(y_train).T))"
   ]
  },
  {
   "cell_type": "code",
   "execution_count": 364,
   "metadata": {},
   "outputs": [],
   "source": [
    "t_os = train[np.where(train[:, -1] == 0)]\n",
    "t_3s = train[np.where(train[:, -1] == 3)]"
   ]
  },
  {
   "cell_type": "code",
   "execution_count": 374,
   "metadata": {},
   "outputs": [],
   "source": [
    "train = np.vstack((train, t_os, t_3s, t_os, t_3s, t_os, t_3s, t_os, t_3s))\n",
    "np.random.shuffle(train)"
   ]
  },
  {
   "cell_type": "code",
   "execution_count": 375,
   "metadata": {},
   "outputs": [],
   "source": [
    "x_train, y_train = train[:, :-1], train[:,-1]"
   ]
  },
  {
   "cell_type": "code",
   "execution_count": 376,
   "metadata": {},
   "outputs": [],
   "source": [
    "rgr = RandomForestClassifier(oob_score=True)"
   ]
  },
  {
   "cell_type": "code",
   "execution_count": 377,
   "metadata": {},
   "outputs": [
    {
     "data": {
      "text/plain": [
       "RandomForestClassifier(oob_score=True)"
      ]
     },
     "execution_count": 377,
     "metadata": {},
     "output_type": "execute_result"
    }
   ],
   "source": [
    "rgr.fit(x_train, y_train)"
   ]
  },
  {
   "cell_type": "code",
   "execution_count": 378,
   "metadata": {},
   "outputs": [
    {
     "name": "stdout",
     "output_type": "stream",
     "text": [
      "              precision    recall  f1-score   support\n",
      "\n",
      "       False       0.96      0.98      0.97       278\n",
      "        True       1.00      0.99      1.00      2118\n",
      "\n",
      "    accuracy                           0.99      2396\n",
      "   macro avg       0.98      0.99      0.98      2396\n",
      "weighted avg       0.99      0.99      0.99      2396\n",
      "\n"
     ]
    }
   ],
   "source": [
    "preds = rgr.predict(x_test)\n",
    "rgr.score(x_test, y_test)\n",
    "print(classification_report(y_test, preds))"
   ]
  },
  {
   "cell_type": "code",
   "execution_count": 379,
   "metadata": {},
   "outputs": [
    {
     "data": {
      "text/plain": [
       "<sklearn.metrics._plot.roc_curve.RocCurveDisplay at 0x7f9f80500750>"
      ]
     },
     "execution_count": 379,
     "metadata": {},
     "output_type": "execute_result"
    },
    {
     "data": {
      "image/png": "[encoded data removed]",
      "text/plain": [
       "<Figure size 432x288 with 1 Axes>"
      ]
     },
     "metadata": {
      "needs_background": "light"
     },
     "output_type": "display_data"
    }
   ],
   "source": [
    "plot_roc_curve(rgr, x_test, y_test)"
   ]
  },
  {
   "cell_type": "code",
   "execution_count": 346,
   "metadata": {},
   "outputs": [
    {
     "data": {
      "text/plain": [
       "DecisionTreeClassifier()"
      ]
     },
     "execution_count": 346,
     "metadata": {},
     "output_type": "execute_result"
    }
   ],
   "source": [
    "dtr = DecisionTreeClassifier()\n",
    "dtr.fit(x_train, y_train)"
   ]
  },
  {
   "cell_type": "code",
   "execution_count": 347,
   "metadata": {},
   "outputs": [
    {
     "data": {
      "text/plain": [
       "(0.9344741235392321, 0.06552587646076795)"
      ]
     },
     "execution_count": 347,
     "metadata": {},
     "output_type": "execute_result"
    }
   ],
   "source": [
    "preds = dtr.predict(x_test)\n",
    "dtr.score(x_test,y_test), mse(preds, y_test)"
   ]
  },
  {
   "cell_type": "code",
   "execution_count": 258,
   "metadata": {},
   "outputs": [
    {
     "data": {
      "text/plain": [
       "22"
      ]
     },
     "execution_count": 258,
     "metadata": {},
     "output_type": "execute_result"
    }
   ],
   "source": [
    "dtr.get_depth()"
   ]
  },
  {
   "cell_type": "code",
   "execution_count": 259,
   "metadata": {},
   "outputs": [
    {
     "name": "stderr",
     "output_type": "stream",
     "text": [
      "/Users/tim/anaconda3/lib/python3.7/site-packages/sklearn/linear_model/_logistic.py:764: ConvergenceWarning: lbfgs failed to converge (status=1):\n",
      "STOP: TOTAL NO. of ITERATIONS REACHED LIMIT.\n",
      "\n",
      "Increase the number of iterations (max_iter) or scale the data as shown in:\n",
      "    https://scikit-learn.org/stable/modules/preprocessing.html\n",
      "Please also refer to the documentation for alternative solver options:\n",
      "    https://scikit-learn.org/stable/modules/linear_model.html#logistic-regression\n",
      "  extra_warning_msg=_LOGISTIC_SOLVER_CONVERGENCE_MSG)\n"
     ]
    },
    {
     "data": {
      "text/plain": [
       "(0.7671381936887922, 0.30431628581791803)"
      ]
     },
     "execution_count": 259,
     "metadata": {},
     "output_type": "execute_result"
    }
   ],
   "source": [
    "lr = LogisticRegression()\n",
    "lr.fit(x_train, y_train)\n",
    "preds = lr.predict(x_test)\n",
    "lr.score(x_test, y_test), mse(preds, y_test)"
   ]
  },
  {
   "cell_type": "code",
   "execution_count": 380,
   "metadata": {},
   "outputs": [],
   "source": [
    "import torch\n",
    "from torch import nn\n",
    "from torch.utils.data import TensorDataset\n",
    "from torch.utils.data import DataLoader\n",
    "import torch.optim as optim"
   ]
  },
  {
   "cell_type": "code",
   "execution_count": 381,
   "metadata": {},
   "outputs": [],
   "source": [
    "BATCH_SIZE = 256\n",
    "n_features = 30\n",
    "n_classes=len(t_list)\n",
    "training_dataset = TensorDataset(torch.from_numpy(x_train).float(), \n",
    "                                 torch.from_numpy(y_train).long())\n",
    "train_loader = DataLoader(training_dataset, batch_size=BATCH_SIZE, shuffle=True, drop_last=True)\n",
    "\n",
    "testing_dataset = TensorDataset(torch.from_numpy(x_test).float(), \n",
    "                                torch.from_numpy(y_test).long())\n",
    "test_loader = DataLoader(testing_dataset, batch_size=BATCH_SIZE, shuffle=True, drop_last=True)"
   ]
  },
  {
   "cell_type": "code",
   "execution_count": 397,
   "metadata": {},
   "outputs": [],
   "source": [
    "class Classifier(nn.Module):\n",
    "    def __init__(self, n_features, n_classes, n_hidden=64, p_dropout=0.5):\n",
    "        super(Classifier, self).__init__()\n",
    "        self.fc1 = nn.Linear(n_features, n_hidden, bias=True)\n",
    "        self.fc2 = nn.Linear(n_hidden, n_hidden, bias=True)\n",
    "        self.fc3 = nn.Linear(n_hidden, n_hidden, bias=True)\n",
    "        self.fc4 = nn.Linear(n_hidden, n_hidden, bias=True)\n",
    "        self.fc5 = nn.Linear(n_hidden, n_hidden, bias=True)\n",
    "        self.fc6 = nn.Linear(n_hidden, n_hidden, bias=True)\n",
    "        self.fc7 = nn.Linear(n_hidden, n_hidden, bias=True)\n",
    "        self.fc8 = nn.Linear(n_hidden, n_hidden, bias=True)\n",
    "        self.fc9 = nn.Linear(n_hidden, n_hidden, bias=True)\n",
    "        self.fc10 = nn.Linear(n_hidden, n_hidden, bias=True)\n",
    "        self.fc11 = nn.Linear(n_hidden, n_hidden, bias=True)\n",
    "        self.fc12 = nn.Linear(n_hidden, n_hidden, bias=True)\n",
    "        self.fc13 = nn.Linear(n_hidden, n_hidden, bias=True)\n",
    "        self.fc14 = nn.Linear(n_hidden, n_hidden, bias=True)\n",
    "        self.fc15 = nn.Linear(n_hidden, n_hidden, bias=True)\n",
    "        self.fc16 = nn.Linear(n_hidden, n_classes, bias=True)\n",
    "\n",
    "    def forward(self, x):\n",
    "        x = nn.ReLU()(self.fc1(x))\n",
    "        x = nn.ReLU()(self.fc2(x))\n",
    "        x = nn.ReLU()(self.fc3(x))\n",
    "        x = nn.ReLU()(self.fc4(x))\n",
    "        #x = nn.ReLU()(self.fc5(x))\n",
    "        #x = nn.ReLU()(self.fc6(x))\n",
    "        #x = nn.ReLU()(self.fc7(x))\n",
    "        #x = nn.ReLU()(self.fc8(x))\n",
    "        #x = nn.ReLU()(self.fc9(x))\n",
    "        #x = nn.ReLU()(self.fc10(x))\n",
    "        #x = nn.ReLU()(self.fc11(x))\n",
    "        #x = nn.ReLU()(self.fc12(x))\n",
    "        #x = nn.ReLU()(self.fc13(x))\n",
    "        #x = nn.ReLU()(self.fc14(x))\n",
    "        #x = nn.ReLU()(self.fc15(x))\n",
    "        x = self.fc16(x)\n",
    "        x = torch.log_softmax(x, dim=1)\n",
    "        return x"
   ]
  },
  {
   "cell_type": "code",
   "execution_count": 398,
   "metadata": {},
   "outputs": [],
   "source": [
    "def loader_accuracy(model, test_loader, lf=nn.NLLLoss()):\n",
    "    lossies = []\n",
    "    accs = []\n",
    "    #grab a batch from the test loader\n",
    "    with torch.no_grad():\n",
    "        for examples, labels in test_loader:\n",
    "            torch.cuda.empty_cache()\n",
    "            outputs = model.forward(examples)\n",
    "            lossies.append(lf(torch.squeeze(outputs), torch.squeeze(labels)).item())\n",
    "\n",
    "            #for each output in the batch, check if the label is correct\n",
    "            preds = np.argmax(outputs.detach().numpy(), axis=1)\n",
    "            labels = labels.detach().numpy()\n",
    "            accuracy = (preds == labels).mean()\n",
    "            accs.append(accuracy)\n",
    "\n",
    "    loss = sum(lossies)/len(lossies)\n",
    "    acc = sum(accs)/len(accs)\n",
    "\n",
    "    return acc, loss"
   ]
  },
  {
   "cell_type": "code",
   "execution_count": 399,
   "metadata": {},
   "outputs": [],
   "source": [
    "def train(epochs=20):\n",
    "    # reset the model\n",
    "    model = Classifier(n_features=n_features, n_classes=len(set(y_test)))\n",
    "    criterion = nn.NLLLoss()\n",
    "    optimizer = optim.Adam(model.parameters(),lr=0.001)\n",
    "\n",
    "    for epoch in range(epochs):\n",
    "        losses = []\n",
    "\n",
    "        for x_batch_train, y_batch_train in train_loader:\n",
    "            optimizer.zero_grad()\n",
    "            \n",
    "            outputs = model.forward(x_batch_train)\n",
    "            loss = criterion(outputs, y_batch_train)\n",
    "            loss.backward()\n",
    "            optimizer.step()\n",
    "            losses.append(loss.detach().numpy())\n",
    "    \n",
    "        if epoch % 10 == 0:\n",
    "            print(np.mean(losses))\n",
    "            print(loader_accuracy(model, test_loader))\n",
    "        \n",
    "    return model"
   ]
  },
  {
   "cell_type": "code",
   "execution_count": 400,
   "metadata": {},
   "outputs": [
    {
     "name": "stdout",
     "output_type": "stream",
     "text": [
      "1.0960009\n",
      "(0.1948784722222222, 0.7554156846470303)\n",
      "0.6623714\n",
      "(0.2608506944444444, 0.809357742468516)\n",
      "0.65122664\n",
      "(0.4887152777777778, 0.7224977413813273)\n",
      "0.6269263\n",
      "(0.4370659722222222, 0.756029811170366)\n",
      "0.60217303\n",
      "(0.5221354166666666, 0.6522340774536133)\n",
      "0.5870463\n",
      "(0.5434027777777778, 0.6662152740690443)\n",
      "0.56847405\n",
      "(0.6380208333333334, 0.5762496656841702)\n",
      "0.54774904\n",
      "(0.5260416666666666, 0.7471619976891412)\n",
      "0.5377645\n",
      "(0.4175347222222222, 0.8324476546711392)\n",
      "0.51795805\n",
      "(0.6176215277777778, 0.6197690036561754)\n",
      "0.49853438\n",
      "(0.5720486111111112, 0.6844008631176419)\n",
      "0.47058955\n",
      "(0.6983506944444444, 0.5224905874994066)\n",
      "0.45636255\n",
      "(0.7400173611111112, 0.49046015408304)\n",
      "0.41842306\n",
      "(0.7287326388888888, 0.4814263615343306)\n",
      "0.40186334\n",
      "(0.7265625, 0.48826080560684204)\n",
      "0.39234385\n",
      "(0.7552083333333334, 0.4611557920773824)\n",
      "0.35715273\n",
      "(0.7638888888888888, 0.48768897851308185)\n",
      "0.35385692\n",
      "(0.6853298611111112, 0.6053784886995951)\n",
      "0.34430552\n",
      "(0.7964409722222222, 0.3951825698216756)\n",
      "0.3596293\n",
      "(0.8368055555555556, 0.35027337074279785)\n"
     ]
    }
   ],
   "source": [
    "m = train(200)"
   ]
  },
  {
   "cell_type": "code",
   "execution_count": 401,
   "metadata": {},
   "outputs": [],
   "source": [
    "vals = m(torch.Tensor(x_test))"
   ]
  },
  {
   "cell_type": "code",
   "execution_count": 402,
   "metadata": {},
   "outputs": [],
   "source": [
    "preds = torch.argmax(vals,dim=1).numpy()"
   ]
  },
  {
   "cell_type": "code",
   "execution_count": 403,
   "metadata": {},
   "outputs": [
    {
     "data": {
      "text/plain": [
       "0.827212020033389"
      ]
     },
     "execution_count": 403,
     "metadata": {},
     "output_type": "execute_result"
    }
   ],
   "source": [
    "sum(preds == y_test)/len(y_test)"
   ]
  },
  {
   "cell_type": "code",
   "execution_count": 404,
   "metadata": {},
   "outputs": [
    {
     "data": {
      "text/plain": [
       "[278, 2118, 0, 0]"
      ]
     },
     "execution_count": 404,
     "metadata": {},
     "output_type": "execute_result"
    }
   ],
   "source": [
    "[sum(y_test == i) for i in range(4)]"
   ]
  },
  {
   "cell_type": "code",
   "execution_count": 405,
   "metadata": {},
   "outputs": [
    {
     "data": {
      "text/plain": [
       "0.8885642737896494"
      ]
     },
     "execution_count": 405,
     "metadata": {},
     "output_type": "execute_result"
    }
   ],
   "source": [
    "2129/len(y_test)"
   ]
  },
  {
   "cell_type": "code",
   "execution_count": 406,
   "metadata": {},
   "outputs": [
    {
     "name": "stdout",
     "output_type": "stream",
     "text": [
      "              precision    recall  f1-score   support\n",
      "\n",
      "       False       0.38      0.79      0.52       278\n",
      "        True       0.97      0.83      0.89      2118\n",
      "\n",
      "    accuracy                           0.83      2396\n",
      "   macro avg       0.68      0.81      0.71      2396\n",
      "weighted avg       0.90      0.83      0.85      2396\n",
      "\n"
     ]
    }
   ],
   "source": [
    "print(classification_report(y_test, preds))"
   ]
  },
  {
   "cell_type": "code",
   "execution_count": null,
   "metadata": {},
   "outputs": [],
   "source": []
  }
 ],
 "metadata": {
  "kernelspec": {
   "display_name": "Python 3",
   "language": "python",
   "name": "python3"
  },
  "language_info": {
   "codemirror_mode": {
    "name": "ipython",
    "version": 3
   },
   "file_extension": ".py",
   "mimetype": "text/x-python",
   "name": "python",
   "nbconvert_exporter": "python",
   "pygments_lexer": "ipython3",
   "version": "3.7.6"
  }
 },
 "nbformat": 4,
 "nbformat_minor": 4
}
