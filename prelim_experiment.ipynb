{
 "cells": [
  {
   "cell_type": "code",
   "execution_count": 180,
   "metadata": {},
   "outputs": [],
   "source": [
    "import numpy as np\n",
    "import pandas as pd\n",
    "from collections import Counter\n",
    "from sklearn.model_selection import train_test_split\n",
    "from sklearn.ensemble import RandomForestRegressor\n",
    "from sklearn.tree import DecisionTreeRegressor\n",
    "from sklearn.linear_model import LinearRegression"
   ]
  },
  {
   "cell_type": "code",
   "execution_count": 181,
   "metadata": {},
   "outputs": [],
   "source": [
    "data = pd.read_excel('Data/formatted_Small_V5_segments.xlsx')\n",
    "data.columns = ['row_idx', 'id', 'time', 'x', 'y', 'z']\n",
    "data = data[['id', 'time', 'x', 'y', 'z']]"
   ]
  },
  {
   "cell_type": "code",
   "execution_count": 182,
   "metadata": {},
   "outputs": [],
   "source": [
    "cells = sorted(list(set(data['id'])))\n",
    "times = sorted(list(set(data['time'])))"
   ]
  },
  {
   "cell_type": "code",
   "execution_count": 183,
   "metadata": {},
   "outputs": [
    {
     "data": {
      "text/html": [
       "<div>\n",
       "<style scoped>\n",
       "    .dataframe tbody tr th:only-of-type {\n",
       "        vertical-align: middle;\n",
       "    }\n",
       "\n",
       "    .dataframe tbody tr th {\n",
       "        vertical-align: top;\n",
       "    }\n",
       "\n",
       "    .dataframe thead th {\n",
       "        text-align: right;\n",
       "    }\n",
       "</style>\n",
       "<table border=\"1\" class=\"dataframe\">\n",
       "  <thead>\n",
       "    <tr style=\"text-align: right;\">\n",
       "      <th></th>\n",
       "      <th>id</th>\n",
       "      <th>time</th>\n",
       "      <th>x</th>\n",
       "      <th>y</th>\n",
       "      <th>z</th>\n",
       "    </tr>\n",
       "  </thead>\n",
       "  <tbody>\n",
       "    <tr>\n",
       "      <th>0</th>\n",
       "      <td>372003</td>\n",
       "      <td>0</td>\n",
       "      <td>76.342396</td>\n",
       "      <td>31.838097</td>\n",
       "      <td>110.450932</td>\n",
       "    </tr>\n",
       "    <tr>\n",
       "      <th>1</th>\n",
       "      <td>372003</td>\n",
       "      <td>4</td>\n",
       "      <td>75.788278</td>\n",
       "      <td>31.129983</td>\n",
       "      <td>110.499970</td>\n",
       "    </tr>\n",
       "    <tr>\n",
       "      <th>2</th>\n",
       "      <td>372003</td>\n",
       "      <td>8</td>\n",
       "      <td>76.170474</td>\n",
       "      <td>31.348491</td>\n",
       "      <td>110.096623</td>\n",
       "    </tr>\n",
       "    <tr>\n",
       "      <th>3</th>\n",
       "      <td>372003</td>\n",
       "      <td>12</td>\n",
       "      <td>76.190203</td>\n",
       "      <td>31.403692</td>\n",
       "      <td>110.140794</td>\n",
       "    </tr>\n",
       "    <tr>\n",
       "      <th>4</th>\n",
       "      <td>372003</td>\n",
       "      <td>16</td>\n",
       "      <td>76.631888</td>\n",
       "      <td>32.835718</td>\n",
       "      <td>110.006854</td>\n",
       "    </tr>\n",
       "    <tr>\n",
       "      <th>...</th>\n",
       "      <td>...</td>\n",
       "      <td>...</td>\n",
       "      <td>...</td>\n",
       "      <td>...</td>\n",
       "      <td>...</td>\n",
       "    </tr>\n",
       "    <tr>\n",
       "      <th>114753</th>\n",
       "      <td>1262868</td>\n",
       "      <td>648</td>\n",
       "      <td>1483.362007</td>\n",
       "      <td>69.676151</td>\n",
       "      <td>1277.105082</td>\n",
       "    </tr>\n",
       "    <tr>\n",
       "      <th>114754</th>\n",
       "      <td>1262868</td>\n",
       "      <td>652</td>\n",
       "      <td>1483.975966</td>\n",
       "      <td>69.098518</td>\n",
       "      <td>1277.090154</td>\n",
       "    </tr>\n",
       "    <tr>\n",
       "      <th>114755</th>\n",
       "      <td>1262868</td>\n",
       "      <td>656</td>\n",
       "      <td>1483.401067</td>\n",
       "      <td>70.178201</td>\n",
       "      <td>1277.669400</td>\n",
       "    </tr>\n",
       "    <tr>\n",
       "      <th>114756</th>\n",
       "      <td>1262868</td>\n",
       "      <td>660</td>\n",
       "      <td>1483.371691</td>\n",
       "      <td>71.179779</td>\n",
       "      <td>1277.669400</td>\n",
       "    </tr>\n",
       "    <tr>\n",
       "      <th>114757</th>\n",
       "      <td>1262868</td>\n",
       "      <td>664</td>\n",
       "      <td>1482.946169</td>\n",
       "      <td>72.577218</td>\n",
       "      <td>1277.669400</td>\n",
       "    </tr>\n",
       "  </tbody>\n",
       "</table>\n",
       "<p>114758 rows × 5 columns</p>\n",
       "</div>"
      ],
      "text/plain": [
       "             id  time            x          y            z\n",
       "0        372003     0    76.342396  31.838097   110.450932\n",
       "1        372003     4    75.788278  31.129983   110.499970\n",
       "2        372003     8    76.170474  31.348491   110.096623\n",
       "3        372003    12    76.190203  31.403692   110.140794\n",
       "4        372003    16    76.631888  32.835718   110.006854\n",
       "...         ...   ...          ...        ...          ...\n",
       "114753  1262868   648  1483.362007  69.676151  1277.105082\n",
       "114754  1262868   652  1483.975966  69.098518  1277.090154\n",
       "114755  1262868   656  1483.401067  70.178201  1277.669400\n",
       "114756  1262868   660  1483.371691  71.179779  1277.669400\n",
       "114757  1262868   664  1482.946169  72.577218  1277.669400\n",
       "\n",
       "[114758 rows x 5 columns]"
      ]
     },
     "execution_count": 183,
     "metadata": {},
     "output_type": "execute_result"
    }
   ],
   "source": [
    "data"
   ]
  },
  {
   "cell_type": "code",
   "execution_count": 49,
   "metadata": {},
   "outputs": [
    {
     "data": {
      "text/plain": [
       "(1189, 630)"
      ]
     },
     "execution_count": 49,
     "metadata": {},
     "output_type": "execute_result"
    }
   ],
   "source": [
    "format_data = np.zeros((len(cells), 3*len(times)))\n",
    "format_data.shape"
   ]
  },
  {
   "cell_type": "code",
   "execution_count": 184,
   "metadata": {},
   "outputs": [],
   "source": [
    "def format_cell(cell, num_back=10):\n",
    "    \"\"\"\n",
    "    Creates a matrix of `num_back` length paths from `cell`s data.\n",
    "    If a cell has fewer than `num_back` time points, it discards the data.\n",
    "    If a cell has more than `num_back` time points, each `num_back` length\n",
    "    path constitutes one row in the returned matrix\n",
    "    \n",
    "    cell: the cell id\n",
    "    num_back: the path length\n",
    "    \n",
    "    returns: ds, the path matrix with 3*num_back columns\n",
    "    \"\"\"\n",
    "    d = data[data['id'] == cell]\n",
    "    ts = sorted(d['time'])\n",
    "    ds = np.zeros((len(ts)//num_back + 1, num_back*3))\n",
    "    for i, t in enumerate(ts):\n",
    "        ds[i//num_back, i%num_back*3:i%num_back*3+3] = d[d['time'] == t][['x', 'y', 'z']].to_numpy()\n",
    "    for i in range(ds.shape[0]):\n",
    "        ofs = ds[i, 0:3]\n",
    "        for j in range(num_back):\n",
    "            ds[i, 3*j:3*j+3] = ds[i, 3*j:3*j+3] - ofs\n",
    "    if ds[-1,-1] == 0:\n",
    "        return ds[:-1, :]\n",
    "    return ds\n",
    "        \n",
    "    \n",
    "#format_cell(1262868), data[data['id'] == 1262868]"
   ]
  },
  {
   "cell_type": "code",
   "execution_count": 116,
   "metadata": {},
   "outputs": [],
   "source": [
    "# creating a the matrix of paths to train models on\n",
    "\n",
    "num_back = 10\n",
    "cell_arrays = []\n",
    "for c in cells:\n",
    "    times = data[data['id'] == c]['time']\n",
    "    r = max(times) - min(times)\n",
    "    if r < 4*num_back:\n",
    "        continue\n",
    "    cell_arrays.append(format_cell(c, num_back))\n",
    "    "
   ]
  },
  {
   "cell_type": "code",
   "execution_count": 176,
   "metadata": {},
   "outputs": [],
   "source": [
    "fmt_data = np.vstack(cell_arrays)"
   ]
  },
  {
   "cell_type": "code",
   "execution_count": 187,
   "metadata": {},
   "outputs": [],
   "source": [
    "# y is the last point in the path. X is the first num_back - 1 points\n",
    "X, y = fmt_data[:, :-3], fmt_data[:, -3:]"
   ]
  },
  {
   "cell_type": "code",
   "execution_count": 186,
   "metadata": {},
   "outputs": [
    {
     "data": {
      "text/plain": [
       "array([[ 78.36070368,  29.63309086, 111.53348504],\n",
       "       [ 79.21917651,  29.99745735, 110.20615538],\n",
       "       [ 79.24018617,  28.46135638, 107.40512511],\n",
       "       [609.89036978, 130.34372731, 468.9753078 ],\n",
       "       [618.31433751, 145.14853122, 485.6484767 ]])"
      ]
     },
     "execution_count": 186,
     "metadata": {},
     "output_type": "execute_result"
    }
   ],
   "source": [
    "y[:5]"
   ]
  },
  {
   "cell_type": "code",
   "execution_count": 169,
   "metadata": {},
   "outputs": [],
   "source": [
    "x_train, x_test, y_train, y_test = train_test_split(X, y, test_size=.25)"
   ]
  },
  {
   "cell_type": "code",
   "execution_count": 170,
   "metadata": {},
   "outputs": [],
   "source": [
    "rgr = RandomForestRegressor()"
   ]
  },
  {
   "cell_type": "code",
   "execution_count": 171,
   "metadata": {},
   "outputs": [
    {
     "data": {
      "text/plain": [
       "RandomForestRegressor()"
      ]
     },
     "execution_count": 171,
     "metadata": {},
     "output_type": "execute_result"
    }
   ],
   "source": [
    "rgr.fit(x_train, y_train)"
   ]
  },
  {
   "cell_type": "code",
   "execution_count": 172,
   "metadata": {},
   "outputs": [
    {
     "data": {
      "text/plain": [
       "0.9980422659027175"
      ]
     },
     "execution_count": 172,
     "metadata": {},
     "output_type": "execute_result"
    }
   ],
   "source": [
    "rgr.score(x_test, y_test)"
   ]
  },
  {
   "cell_type": "code",
   "execution_count": 173,
   "metadata": {},
   "outputs": [
    {
     "data": {
      "text/plain": [
       "DecisionTreeRegressor()"
      ]
     },
     "execution_count": 173,
     "metadata": {},
     "output_type": "execute_result"
    }
   ],
   "source": [
    "dtr = DecisionTreeRegressor()\n",
    "dtr.fit(x_train, y_train)"
   ]
  },
  {
   "cell_type": "code",
   "execution_count": 174,
   "metadata": {},
   "outputs": [
    {
     "data": {
      "text/plain": [
       "0.9941215761238272"
      ]
     },
     "execution_count": 174,
     "metadata": {},
     "output_type": "execute_result"
    }
   ],
   "source": [
    "dtr.score(x_test,y_test)"
   ]
  },
  {
   "cell_type": "code",
   "execution_count": 175,
   "metadata": {},
   "outputs": [
    {
     "data": {
      "text/plain": [
       "0.9989918265076719"
      ]
     },
     "execution_count": 175,
     "metadata": {},
     "output_type": "execute_result"
    }
   ],
   "source": [
    "lr = LinearRegression()\n",
    "lr.fit(x_train, y_train)\n",
    "lr.score(x_test, y_test)"
   ]
  },
  {
   "cell_type": "code",
   "execution_count": null,
   "metadata": {},
   "outputs": [],
   "source": []
  }
 ],
 "metadata": {
  "kernelspec": {
   "display_name": "Python 3",
   "language": "python",
   "name": "python3"
  },
  "language_info": {
   "codemirror_mode": {
    "name": "ipython",
    "version": 3
   },
   "file_extension": ".py",
   "mimetype": "text/x-python",
   "name": "python",
   "nbconvert_exporter": "python",
   "pygments_lexer": "ipython3",
   "version": "3.7.6"
  }
 },
 "nbformat": 4,
 "nbformat_minor": 4
}
