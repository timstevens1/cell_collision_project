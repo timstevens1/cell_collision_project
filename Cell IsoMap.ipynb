{
 "cells": [
  {
   "cell_type": "code",
   "execution_count": 219,
   "id": "9619be91",
   "metadata": {},
   "outputs": [],
   "source": [
    "import numpy as np\n",
    "import pandas as pd\n",
    "from collections import Counter\n",
    "from sklearn.model_selection import train_test_split\n",
    "from sklearn.ensemble import RandomForestRegressor\n",
    "from sklearn.tree import DecisionTreeRegressor\n",
    "from sklearn.linear_model import LinearRegression\n",
    "\n",
    "from sklearn.manifold import Isomap\n",
    "\n",
    "import math\n",
    "\n",
    "import matplotlib.pyplot as plt"
   ]
  },
  {
   "cell_type": "code",
   "execution_count": 232,
   "id": "1ce76de7",
   "metadata": {},
   "outputs": [
    {
     "ename": "KeyError",
     "evalue": "\"None of [Index(['id', 'time', 'x', 'y', 'z'], dtype='object')] are in the [columns]\"",
     "output_type": "error",
     "traceback": [
      "\u001b[1;31m---------------------------------------------------------------------------\u001b[0m",
      "\u001b[1;31mKeyError\u001b[0m                                  Traceback (most recent call last)",
      "\u001b[1;32m<ipython-input-232-4ccfd97d5037>\u001b[0m in \u001b[0;36m<module>\u001b[1;34m\u001b[0m\n\u001b[0;32m      2\u001b[0m \u001b[0mdataXYZ\u001b[0m \u001b[1;33m=\u001b[0m \u001b[0mpd\u001b[0m\u001b[1;33m.\u001b[0m\u001b[0mread_excel\u001b[0m\u001b[1;33m(\u001b[0m\u001b[1;34m'Data/formatted_Small_V5_segments.xlsx'\u001b[0m\u001b[1;33m)\u001b[0m\u001b[1;33m\u001b[0m\u001b[1;33m\u001b[0m\u001b[0m\n\u001b[0;32m      3\u001b[0m \u001b[0mdataXYZ\u001b[0m\u001b[1;33m.\u001b[0m\u001b[0mcolumns\u001b[0m \u001b[1;33m=\u001b[0m \u001b[1;33m[\u001b[0m\u001b[1;34m'row_idx'\u001b[0m\u001b[1;33m,\u001b[0m \u001b[1;34m'id'\u001b[0m\u001b[1;33m,\u001b[0m \u001b[1;34m'time'\u001b[0m\u001b[1;33m,\u001b[0m \u001b[1;34m'x'\u001b[0m\u001b[1;33m,\u001b[0m \u001b[1;34m'y'\u001b[0m\u001b[1;33m,\u001b[0m \u001b[1;34m'z'\u001b[0m\u001b[1;33m]\u001b[0m\u001b[1;33m\u001b[0m\u001b[1;33m\u001b[0m\u001b[0m\n\u001b[1;32m----> 4\u001b[1;33m \u001b[0mdataXYZ\u001b[0m \u001b[1;33m=\u001b[0m \u001b[0mdata\u001b[0m\u001b[1;33m[\u001b[0m\u001b[1;33m[\u001b[0m\u001b[1;34m'id'\u001b[0m\u001b[1;33m,\u001b[0m \u001b[1;34m'time'\u001b[0m\u001b[1;33m,\u001b[0m \u001b[1;34m'x'\u001b[0m\u001b[1;33m,\u001b[0m \u001b[1;34m'y'\u001b[0m\u001b[1;33m,\u001b[0m \u001b[1;34m'z'\u001b[0m\u001b[1;33m]\u001b[0m\u001b[1;33m]\u001b[0m\u001b[1;33m\u001b[0m\u001b[1;33m\u001b[0m\u001b[0m\n\u001b[0m\u001b[0;32m      5\u001b[0m \u001b[1;33m\u001b[0m\u001b[0m\n\u001b[0;32m      6\u001b[0m \u001b[1;33m\u001b[0m\u001b[0m\n",
      "\u001b[1;32m~\\anaconda3\\lib\\site-packages\\pandas\\core\\frame.py\u001b[0m in \u001b[0;36m__getitem__\u001b[1;34m(self, key)\u001b[0m\n\u001b[0;32m   3028\u001b[0m             \u001b[1;32mif\u001b[0m \u001b[0mis_iterator\u001b[0m\u001b[1;33m(\u001b[0m\u001b[0mkey\u001b[0m\u001b[1;33m)\u001b[0m\u001b[1;33m:\u001b[0m\u001b[1;33m\u001b[0m\u001b[1;33m\u001b[0m\u001b[0m\n\u001b[0;32m   3029\u001b[0m                 \u001b[0mkey\u001b[0m \u001b[1;33m=\u001b[0m \u001b[0mlist\u001b[0m\u001b[1;33m(\u001b[0m\u001b[0mkey\u001b[0m\u001b[1;33m)\u001b[0m\u001b[1;33m\u001b[0m\u001b[1;33m\u001b[0m\u001b[0m\n\u001b[1;32m-> 3030\u001b[1;33m             \u001b[0mindexer\u001b[0m \u001b[1;33m=\u001b[0m \u001b[0mself\u001b[0m\u001b[1;33m.\u001b[0m\u001b[0mloc\u001b[0m\u001b[1;33m.\u001b[0m\u001b[0m_get_listlike_indexer\u001b[0m\u001b[1;33m(\u001b[0m\u001b[0mkey\u001b[0m\u001b[1;33m,\u001b[0m \u001b[0maxis\u001b[0m\u001b[1;33m=\u001b[0m\u001b[1;36m1\u001b[0m\u001b[1;33m,\u001b[0m \u001b[0mraise_missing\u001b[0m\u001b[1;33m=\u001b[0m\u001b[1;32mTrue\u001b[0m\u001b[1;33m)\u001b[0m\u001b[1;33m[\u001b[0m\u001b[1;36m1\u001b[0m\u001b[1;33m]\u001b[0m\u001b[1;33m\u001b[0m\u001b[1;33m\u001b[0m\u001b[0m\n\u001b[0m\u001b[0;32m   3031\u001b[0m \u001b[1;33m\u001b[0m\u001b[0m\n\u001b[0;32m   3032\u001b[0m         \u001b[1;31m# take() does not accept boolean indexers\u001b[0m\u001b[1;33m\u001b[0m\u001b[1;33m\u001b[0m\u001b[1;33m\u001b[0m\u001b[0m\n",
      "\u001b[1;32m~\\anaconda3\\lib\\site-packages\\pandas\\core\\indexing.py\u001b[0m in \u001b[0;36m_get_listlike_indexer\u001b[1;34m(self, key, axis, raise_missing)\u001b[0m\n\u001b[0;32m   1264\u001b[0m             \u001b[0mkeyarr\u001b[0m\u001b[1;33m,\u001b[0m \u001b[0mindexer\u001b[0m\u001b[1;33m,\u001b[0m \u001b[0mnew_indexer\u001b[0m \u001b[1;33m=\u001b[0m \u001b[0max\u001b[0m\u001b[1;33m.\u001b[0m\u001b[0m_reindex_non_unique\u001b[0m\u001b[1;33m(\u001b[0m\u001b[0mkeyarr\u001b[0m\u001b[1;33m)\u001b[0m\u001b[1;33m\u001b[0m\u001b[1;33m\u001b[0m\u001b[0m\n\u001b[0;32m   1265\u001b[0m \u001b[1;33m\u001b[0m\u001b[0m\n\u001b[1;32m-> 1266\u001b[1;33m         \u001b[0mself\u001b[0m\u001b[1;33m.\u001b[0m\u001b[0m_validate_read_indexer\u001b[0m\u001b[1;33m(\u001b[0m\u001b[0mkeyarr\u001b[0m\u001b[1;33m,\u001b[0m \u001b[0mindexer\u001b[0m\u001b[1;33m,\u001b[0m \u001b[0maxis\u001b[0m\u001b[1;33m,\u001b[0m \u001b[0mraise_missing\u001b[0m\u001b[1;33m=\u001b[0m\u001b[0mraise_missing\u001b[0m\u001b[1;33m)\u001b[0m\u001b[1;33m\u001b[0m\u001b[1;33m\u001b[0m\u001b[0m\n\u001b[0m\u001b[0;32m   1267\u001b[0m         \u001b[1;32mreturn\u001b[0m \u001b[0mkeyarr\u001b[0m\u001b[1;33m,\u001b[0m \u001b[0mindexer\u001b[0m\u001b[1;33m\u001b[0m\u001b[1;33m\u001b[0m\u001b[0m\n\u001b[0;32m   1268\u001b[0m \u001b[1;33m\u001b[0m\u001b[0m\n",
      "\u001b[1;32m~\\anaconda3\\lib\\site-packages\\pandas\\core\\indexing.py\u001b[0m in \u001b[0;36m_validate_read_indexer\u001b[1;34m(self, key, indexer, axis, raise_missing)\u001b[0m\n\u001b[0;32m   1306\u001b[0m             \u001b[1;32mif\u001b[0m \u001b[0mmissing\u001b[0m \u001b[1;33m==\u001b[0m \u001b[0mlen\u001b[0m\u001b[1;33m(\u001b[0m\u001b[0mindexer\u001b[0m\u001b[1;33m)\u001b[0m\u001b[1;33m:\u001b[0m\u001b[1;33m\u001b[0m\u001b[1;33m\u001b[0m\u001b[0m\n\u001b[0;32m   1307\u001b[0m                 \u001b[0maxis_name\u001b[0m \u001b[1;33m=\u001b[0m \u001b[0mself\u001b[0m\u001b[1;33m.\u001b[0m\u001b[0mobj\u001b[0m\u001b[1;33m.\u001b[0m\u001b[0m_get_axis_name\u001b[0m\u001b[1;33m(\u001b[0m\u001b[0maxis\u001b[0m\u001b[1;33m)\u001b[0m\u001b[1;33m\u001b[0m\u001b[1;33m\u001b[0m\u001b[0m\n\u001b[1;32m-> 1308\u001b[1;33m                 \u001b[1;32mraise\u001b[0m \u001b[0mKeyError\u001b[0m\u001b[1;33m(\u001b[0m\u001b[1;34mf\"None of [{key}] are in the [{axis_name}]\"\u001b[0m\u001b[1;33m)\u001b[0m\u001b[1;33m\u001b[0m\u001b[1;33m\u001b[0m\u001b[0m\n\u001b[0m\u001b[0;32m   1309\u001b[0m \u001b[1;33m\u001b[0m\u001b[0m\n\u001b[0;32m   1310\u001b[0m             \u001b[0max\u001b[0m \u001b[1;33m=\u001b[0m \u001b[0mself\u001b[0m\u001b[1;33m.\u001b[0m\u001b[0mobj\u001b[0m\u001b[1;33m.\u001b[0m\u001b[0m_get_axis\u001b[0m\u001b[1;33m(\u001b[0m\u001b[0maxis\u001b[0m\u001b[1;33m)\u001b[0m\u001b[1;33m\u001b[0m\u001b[1;33m\u001b[0m\u001b[0m\n",
      "\u001b[1;31mKeyError\u001b[0m: \"None of [Index(['id', 'time', 'x', 'y', 'z'], dtype='object')] are in the [columns]\""
     ]
    }
   ],
   "source": [
    "data = pd.read_excel('data/Migrate+Contact.xlsx')\n",
    "dataXYZ = pd.read_excel('Data/formatted_Small_V5_segments.xlsx')\n",
    "dataXYZ.columns = ['row_idx', 'id', 'time', 'x', 'y', 'z']\n",
    "dataXYZ = data[['id', 'time', 'x', 'y', 'z']]\n",
    "\n",
    "\n",
    "data2 = pd.read_excel('data/Migrate+Contact.xlsx',sheet_name=\"Contacts with live cells\")\n",
    "data2.columns = ['Time For Cell 1','Cell ID 1','Cell ID 2','Time for Cell 2']\n",
    "data2 = data2[['Cell ID 1','Cell ID 2']]\n",
    "\n",
    "data.columns = ['cell ID','Time','Instantaneous Displacement','Instantaneous Velocity','Instantaneous Acceleration','Instantaneous Velocity Filtered','Instantaneous Acceleration Filtered','Path length','Total Displacement','Euclidean 2 TP','Euclidean 3 TP','Euclidean 4 TP','Euclidean 5 TP','Euclidean 6 TP','Euclidean 7 TP','blank','Angle 3 TP','Angle 5 TP','Angle 7 TP','Angle Filtered 3 TP','Angle Filtered 5 TP','Angle Filtered 7 TP']\n",
    "data = data[['cell ID','Time','Angle 3 TP','Angle 5 TP','Angle 7 TP']]"
   ]
  },
  {
   "cell_type": "code",
   "execution_count": 210,
   "id": "f2d92d18",
   "metadata": {},
   "outputs": [
    {
     "name": "stdout",
     "output_type": "stream",
     "text": [
      "also yay\n"
     ]
    }
   ],
   "source": [
    "times = sorted(list(set(data['Time'])))\n",
    "cells2 = sorted(list(set(data2['Cell ID 2'])))\n",
    "cells1 = sorted(list(set(data2['Cell ID 1'])))\n",
    "cells = sorted(list(set(data['cell ID'])))\n",
    "\n",
    "if(cells2==cells1):\n",
    "    print(\"yay\")\n",
    "    \n",
    "cells = sorted(list(set(data['cell ID'])))\n",
    "if(cells!=cells2):\n",
    "    print(\"also yay\")\n",
    "\n",
    "\n",
    "#times = sorted(list(set(data['Time'])))\n",
    "FilteredData2 = data.loc[data['cell ID'].isin(cells2)]\n",
    "#times = sorted(list(set(data['time'])))\n",
    "\n",
    "FilteredData2 =  FilteredData2.loc[~np.isnan(FilteredData2).any(axis=1), :]\n",
    "\n",
    "\n",
    "FilteredData1 = data.loc[data['cell ID'].isin(cells1)]\n",
    "\n",
    "FilteredData1 = FilteredData1.loc[~np.isnan(FilteredData1).any(axis=1), :]\n",
    "\n",
    "#print(cells2)\n",
    "#print(FilteredData2)\n",
    "#times = sorted(list(set(data['time'])))"
   ]
  },
  {
   "cell_type": "code",
   "execution_count": 172,
   "id": "fab21a4f",
   "metadata": {},
   "outputs": [
    {
     "data": {
      "text/plain": [
       "(811, 2433)"
      ]
     },
     "execution_count": 172,
     "metadata": {},
     "output_type": "execute_result"
    }
   ],
   "source": [
    "format_data = np.zeros((len(cells2), 3*len(cells2)))\n",
    "format_data.shape"
   ]
  },
  {
   "cell_type": "code",
   "execution_count": 173,
   "id": "e4044a84",
   "metadata": {},
   "outputs": [
    {
     "data": {
      "text/html": [
       "<div>\n",
       "<style scoped>\n",
       "    .dataframe tbody tr th:only-of-type {\n",
       "        vertical-align: middle;\n",
       "    }\n",
       "\n",
       "    .dataframe tbody tr th {\n",
       "        vertical-align: top;\n",
       "    }\n",
       "\n",
       "    .dataframe thead th {\n",
       "        text-align: right;\n",
       "    }\n",
       "</style>\n",
       "<table border=\"1\" class=\"dataframe\">\n",
       "  <thead>\n",
       "    <tr style=\"text-align: right;\">\n",
       "      <th></th>\n",
       "      <th>cell ID</th>\n",
       "      <th>Time</th>\n",
       "      <th>Angle 3 TP</th>\n",
       "      <th>Angle 5 TP</th>\n",
       "      <th>Angle 7 TP</th>\n",
       "    </tr>\n",
       "  </thead>\n",
       "  <tbody>\n",
       "    <tr>\n",
       "      <th>86208</th>\n",
       "      <td>1049192</td>\n",
       "      <td>684</td>\n",
       "      <td>NaN</td>\n",
       "      <td>NaN</td>\n",
       "      <td>NaN</td>\n",
       "    </tr>\n",
       "    <tr>\n",
       "      <th>86209</th>\n",
       "      <td>1049192</td>\n",
       "      <td>688</td>\n",
       "      <td>NaN</td>\n",
       "      <td>NaN</td>\n",
       "      <td>NaN</td>\n",
       "    </tr>\n",
       "    <tr>\n",
       "      <th>86210</th>\n",
       "      <td>1049192</td>\n",
       "      <td>692</td>\n",
       "      <td>36.669025</td>\n",
       "      <td>NaN</td>\n",
       "      <td>NaN</td>\n",
       "    </tr>\n",
       "    <tr>\n",
       "      <th>86211</th>\n",
       "      <td>1049192</td>\n",
       "      <td>696</td>\n",
       "      <td>91.338268</td>\n",
       "      <td>NaN</td>\n",
       "      <td>NaN</td>\n",
       "    </tr>\n",
       "    <tr>\n",
       "      <th>86212</th>\n",
       "      <td>1049192</td>\n",
       "      <td>700</td>\n",
       "      <td>32.708816</td>\n",
       "      <td>88.959216</td>\n",
       "      <td>NaN</td>\n",
       "    </tr>\n",
       "    <tr>\n",
       "      <th>86213</th>\n",
       "      <td>1049192</td>\n",
       "      <td>704</td>\n",
       "      <td>3.600690</td>\n",
       "      <td>24.048672</td>\n",
       "      <td>NaN</td>\n",
       "    </tr>\n",
       "    <tr>\n",
       "      <th>86214</th>\n",
       "      <td>1049192</td>\n",
       "      <td>708</td>\n",
       "      <td>61.498931</td>\n",
       "      <td>16.237943</td>\n",
       "      <td>40.372276</td>\n",
       "    </tr>\n",
       "    <tr>\n",
       "      <th>86215</th>\n",
       "      <td>1049192</td>\n",
       "      <td>712</td>\n",
       "      <td>25.113290</td>\n",
       "      <td>65.069559</td>\n",
       "      <td>26.801762</td>\n",
       "    </tr>\n",
       "    <tr>\n",
       "      <th>86216</th>\n",
       "      <td>1049192</td>\n",
       "      <td>716</td>\n",
       "      <td>19.239233</td>\n",
       "      <td>44.994533</td>\n",
       "      <td>57.938024</td>\n",
       "    </tr>\n",
       "    <tr>\n",
       "      <th>86217</th>\n",
       "      <td>1049192</td>\n",
       "      <td>720</td>\n",
       "      <td>19.097873</td>\n",
       "      <td>30.185970</td>\n",
       "      <td>49.382973</td>\n",
       "    </tr>\n",
       "    <tr>\n",
       "      <th>86218</th>\n",
       "      <td>1049192</td>\n",
       "      <td>724</td>\n",
       "      <td>74.498970</td>\n",
       "      <td>31.885635</td>\n",
       "      <td>22.419080</td>\n",
       "    </tr>\n",
       "    <tr>\n",
       "      <th>86219</th>\n",
       "      <td>1049192</td>\n",
       "      <td>728</td>\n",
       "      <td>77.243490</td>\n",
       "      <td>14.923208</td>\n",
       "      <td>29.348553</td>\n",
       "    </tr>\n",
       "    <tr>\n",
       "      <th>86220</th>\n",
       "      <td>1049192</td>\n",
       "      <td>732</td>\n",
       "      <td>2.579768</td>\n",
       "      <td>44.224705</td>\n",
       "      <td>24.274709</td>\n",
       "    </tr>\n",
       "    <tr>\n",
       "      <th>86221</th>\n",
       "      <td>1049192</td>\n",
       "      <td>736</td>\n",
       "      <td>37.472945</td>\n",
       "      <td>9.169669</td>\n",
       "      <td>24.095462</td>\n",
       "    </tr>\n",
       "    <tr>\n",
       "      <th>86222</th>\n",
       "      <td>1049192</td>\n",
       "      <td>740</td>\n",
       "      <td>80.596699</td>\n",
       "      <td>44.702399</td>\n",
       "      <td>27.175795</td>\n",
       "    </tr>\n",
       "    <tr>\n",
       "      <th>86223</th>\n",
       "      <td>1049192</td>\n",
       "      <td>744</td>\n",
       "      <td>27.371256</td>\n",
       "      <td>64.545928</td>\n",
       "      <td>57.526968</td>\n",
       "    </tr>\n",
       "    <tr>\n",
       "      <th>86224</th>\n",
       "      <td>1049192</td>\n",
       "      <td>748</td>\n",
       "      <td>25.624130</td>\n",
       "      <td>20.299074</td>\n",
       "      <td>58.614369</td>\n",
       "    </tr>\n",
       "    <tr>\n",
       "      <th>86225</th>\n",
       "      <td>1049192</td>\n",
       "      <td>752</td>\n",
       "      <td>32.911661</td>\n",
       "      <td>24.156849</td>\n",
       "      <td>34.611309</td>\n",
       "    </tr>\n",
       "    <tr>\n",
       "      <th>86226</th>\n",
       "      <td>1049192</td>\n",
       "      <td>756</td>\n",
       "      <td>38.021178</td>\n",
       "      <td>69.209936</td>\n",
       "      <td>40.988455</td>\n",
       "    </tr>\n",
       "    <tr>\n",
       "      <th>86227</th>\n",
       "      <td>1049192</td>\n",
       "      <td>760</td>\n",
       "      <td>22.836052</td>\n",
       "      <td>68.838585</td>\n",
       "      <td>78.105231</td>\n",
       "    </tr>\n",
       "    <tr>\n",
       "      <th>86228</th>\n",
       "      <td>1049192</td>\n",
       "      <td>764</td>\n",
       "      <td>46.747726</td>\n",
       "      <td>3.806339</td>\n",
       "      <td>68.001618</td>\n",
       "    </tr>\n",
       "    <tr>\n",
       "      <th>86229</th>\n",
       "      <td>1049192</td>\n",
       "      <td>768</td>\n",
       "      <td>45.309389</td>\n",
       "      <td>44.519934</td>\n",
       "      <td>18.916173</td>\n",
       "    </tr>\n",
       "    <tr>\n",
       "      <th>86230</th>\n",
       "      <td>1049192</td>\n",
       "      <td>772</td>\n",
       "      <td>33.894239</td>\n",
       "      <td>52.476347</td>\n",
       "      <td>37.667716</td>\n",
       "    </tr>\n",
       "    <tr>\n",
       "      <th>86231</th>\n",
       "      <td>1049192</td>\n",
       "      <td>776</td>\n",
       "      <td>150.740494</td>\n",
       "      <td>72.392696</td>\n",
       "      <td>53.248230</td>\n",
       "    </tr>\n",
       "    <tr>\n",
       "      <th>86232</th>\n",
       "      <td>1049192</td>\n",
       "      <td>780</td>\n",
       "      <td>63.951270</td>\n",
       "      <td>167.308537</td>\n",
       "      <td>102.838620</td>\n",
       "    </tr>\n",
       "    <tr>\n",
       "      <th>86233</th>\n",
       "      <td>1049192</td>\n",
       "      <td>784</td>\n",
       "      <td>62.928212</td>\n",
       "      <td>133.019583</td>\n",
       "      <td>167.005945</td>\n",
       "    </tr>\n",
       "    <tr>\n",
       "      <th>86234</th>\n",
       "      <td>1049192</td>\n",
       "      <td>788</td>\n",
       "      <td>62.510672</td>\n",
       "      <td>108.092408</td>\n",
       "      <td>91.151798</td>\n",
       "    </tr>\n",
       "    <tr>\n",
       "      <th>86235</th>\n",
       "      <td>1049192</td>\n",
       "      <td>792</td>\n",
       "      <td>173.437087</td>\n",
       "      <td>81.445439</td>\n",
       "      <td>116.919504</td>\n",
       "    </tr>\n",
       "    <tr>\n",
       "      <th>86236</th>\n",
       "      <td>1049192</td>\n",
       "      <td>796</td>\n",
       "      <td>79.091442</td>\n",
       "      <td>146.351420</td>\n",
       "      <td>143.440970</td>\n",
       "    </tr>\n",
       "    <tr>\n",
       "      <th>86237</th>\n",
       "      <td>1049192</td>\n",
       "      <td>800</td>\n",
       "      <td>151.785425</td>\n",
       "      <td>96.146345</td>\n",
       "      <td>166.317720</td>\n",
       "    </tr>\n",
       "    <tr>\n",
       "      <th>86238</th>\n",
       "      <td>1049192</td>\n",
       "      <td>804</td>\n",
       "      <td>123.353298</td>\n",
       "      <td>111.098844</td>\n",
       "      <td>123.808677</td>\n",
       "    </tr>\n",
       "    <tr>\n",
       "      <th>86239</th>\n",
       "      <td>1049192</td>\n",
       "      <td>808</td>\n",
       "      <td>149.712052</td>\n",
       "      <td>149.061370</td>\n",
       "      <td>147.064436</td>\n",
       "    </tr>\n",
       "  </tbody>\n",
       "</table>\n",
       "</div>"
      ],
      "text/plain": [
       "       cell ID  Time  Angle 3 TP  Angle 5 TP  Angle 7 TP\n",
       "86208  1049192   684         NaN         NaN         NaN\n",
       "86209  1049192   688         NaN         NaN         NaN\n",
       "86210  1049192   692   36.669025         NaN         NaN\n",
       "86211  1049192   696   91.338268         NaN         NaN\n",
       "86212  1049192   700   32.708816   88.959216         NaN\n",
       "86213  1049192   704    3.600690   24.048672         NaN\n",
       "86214  1049192   708   61.498931   16.237943   40.372276\n",
       "86215  1049192   712   25.113290   65.069559   26.801762\n",
       "86216  1049192   716   19.239233   44.994533   57.938024\n",
       "86217  1049192   720   19.097873   30.185970   49.382973\n",
       "86218  1049192   724   74.498970   31.885635   22.419080\n",
       "86219  1049192   728   77.243490   14.923208   29.348553\n",
       "86220  1049192   732    2.579768   44.224705   24.274709\n",
       "86221  1049192   736   37.472945    9.169669   24.095462\n",
       "86222  1049192   740   80.596699   44.702399   27.175795\n",
       "86223  1049192   744   27.371256   64.545928   57.526968\n",
       "86224  1049192   748   25.624130   20.299074   58.614369\n",
       "86225  1049192   752   32.911661   24.156849   34.611309\n",
       "86226  1049192   756   38.021178   69.209936   40.988455\n",
       "86227  1049192   760   22.836052   68.838585   78.105231\n",
       "86228  1049192   764   46.747726    3.806339   68.001618\n",
       "86229  1049192   768   45.309389   44.519934   18.916173\n",
       "86230  1049192   772   33.894239   52.476347   37.667716\n",
       "86231  1049192   776  150.740494   72.392696   53.248230\n",
       "86232  1049192   780   63.951270  167.308537  102.838620\n",
       "86233  1049192   784   62.928212  133.019583  167.005945\n",
       "86234  1049192   788   62.510672  108.092408   91.151798\n",
       "86235  1049192   792  173.437087   81.445439  116.919504\n",
       "86236  1049192   796   79.091442  146.351420  143.440970\n",
       "86237  1049192   800  151.785425   96.146345  166.317720\n",
       "86238  1049192   804  123.353298  111.098844  123.808677\n",
       "86239  1049192   808  149.712052  149.061370  147.064436"
      ]
     },
     "execution_count": 173,
     "metadata": {},
     "output_type": "execute_result"
    }
   ],
   "source": [
    "def format_cell(cell, num_back=10):\n",
    "    \"\"\"\n",
    "    Creates a matrix of `num_back` length paths from `cell`s data.\n",
    "    If a cell has fewer than `num_back` time points, it discards the data.\n",
    "    If a cell has more than `num_back` time points, each `num_back` length\n",
    "    path constitutes one row in the returned matrix\n",
    "    \n",
    "    cell: the cell id\n",
    "    num_back: the path length\n",
    "    \n",
    "    returns: ds, the path matrix with 3*num_back columns\n",
    "    \"\"\"\n",
    "    d = data[data['cell ID'] == cell]\n",
    "    ts = sorted(d['Time'])\n",
    "    ds = np.zeros((len(ts)//num_back + 1, num_back*3))\n",
    "    for i, t in enumerate(ts):\n",
    "        ds[i//num_back, i%num_back*3:i%num_back*3+3] = d[d['Time'] == t][['Angle 3 TP','Angle 5 TP','Angle 7 TP']].to_numpy()\n",
    "    for i in range(ds.shape[0]):\n",
    "        ofs = ds[i, 0:3]\n",
    "        for j in range(num_back):\n",
    "            ds[i, 3*j:3*j+3] = ds[i, 3*j:3*j+3] - ofs\n",
    "    if ds[-1,-1] == 0:\n",
    "        return ds[:-1, :]\n",
    "    return ds\n",
    "        \n",
    "format_cell(1049192)\n",
    "data[data['cell ID'] == 1049192]"
   ]
  },
  {
   "cell_type": "code",
   "execution_count": 174,
   "id": "65b8afc7",
   "metadata": {},
   "outputs": [],
   "source": [
    "num_back = 10\n",
    "cell_arrays = []\n",
    "for c in cells2:\n",
    "    times = data[data['cell ID'] == c]['Time']\n",
    "    r = max(times) - min(times)\n",
    "    if r < 4*num_back:\n",
    "        continue\n",
    "    cell_arrays.append(format_cell(c, num_back))"
   ]
  },
  {
   "cell_type": "code",
   "execution_count": 175,
   "id": "dd3c6bb5",
   "metadata": {},
   "outputs": [],
   "source": [
    "fmt_data = np.vstack(cell_arrays)"
   ]
  },
  {
   "cell_type": "code",
   "execution_count": 176,
   "id": "9df1f1fc",
   "metadata": {},
   "outputs": [
    {
     "name": "stdout",
     "output_type": "stream",
     "text": [
      "5152\n",
      "5152\n",
      "[  0.           0.           0.          26.0750858  143.05302148\n",
      "  33.67095972 139.13242062 128.83470036 158.43094877 112.18633777\n",
      " 112.34725375  82.00615117 107.62596624 104.69209593 143.95911738\n",
      " 118.15621563  57.76894726  69.2480538  151.05180669  66.34155093\n",
      " 127.56800442  10.33570056 127.70271913  36.6148813  163.81195824\n",
      " 124.3937186  163.08176472]\n"
     ]
    }
   ],
   "source": [
    "X, y = fmt_data[:, :-3], fmt_data[:, -3:]\n",
    "X = X[~np.isnan(X).any(axis=1), :]\n",
    "y = y[~np.isnan(y).any(axis=1), :]\n",
    "\n",
    "y = y[:-1]\n",
    "print(len(X))\n",
    "print(len(y))\n",
    "print(X[-1])"
   ]
  },
  {
   "cell_type": "code",
   "execution_count": null,
   "id": "51e2d347",
   "metadata": {},
   "outputs": [],
   "source": []
  },
  {
   "cell_type": "code",
   "execution_count": 177,
   "id": "9dc3025a",
   "metadata": {},
   "outputs": [
    {
     "name": "stdout",
     "output_type": "stream",
     "text": [
      "[[  0.           0.           0.         ...  92.83731262 115.54292481\n",
      "  143.7666608 ]\n",
      " [  0.           0.           0.         ...  46.14405536  47.25823982\n",
      "   33.86424329]\n",
      " [  0.           0.           0.         ... 115.01771309 116.37600875\n",
      "   48.31017137]\n",
      " ...\n",
      " [  0.           0.           0.         ...  33.27669334 153.67058783\n",
      "   86.58254703]\n",
      " [  0.           0.           0.         ...  55.83468627  25.19000086\n",
      "   37.58461874]\n",
      " [  0.           0.           0.         ...  58.70233575  37.71365559\n",
      "  123.48976869]]\n",
      "[[109.32183847 134.76377316  20.0676292 ]\n",
      " [ 11.01438313  27.50556421  29.56173834]\n",
      " [ 75.65086637 118.86802683  59.95318444]\n",
      " ...\n",
      " [ 97.71179312 135.08785652 146.71492586]\n",
      " [ 43.95422652  37.39488623  42.85198788]\n",
      " [114.52649431 132.97846591 147.72558042]]\n"
     ]
    }
   ],
   "source": [
    "x_train, x_test, y_train, y_test = train_test_split(X, y, test_size=.25)\n",
    "print(x_train)\n",
    "print(y_train)"
   ]
  },
  {
   "cell_type": "code",
   "execution_count": 178,
   "id": "cd0df7d5",
   "metadata": {},
   "outputs": [],
   "source": [
    "rgr = RandomForestRegressor()"
   ]
  },
  {
   "cell_type": "code",
   "execution_count": 179,
   "id": "f800bfe9",
   "metadata": {},
   "outputs": [
    {
     "data": {
      "text/plain": [
       "RandomForestRegressor()"
      ]
     },
     "execution_count": 179,
     "metadata": {},
     "output_type": "execute_result"
    }
   ],
   "source": [
    "rgr.fit(x_train, y_train)"
   ]
  },
  {
   "cell_type": "code",
   "execution_count": 193,
   "id": "dbcfb3b4",
   "metadata": {},
   "outputs": [
    {
     "data": {
      "text/plain": [
       "0.21074252043368857"
      ]
     },
     "execution_count": 193,
     "metadata": {},
     "output_type": "execute_result"
    }
   ],
   "source": [
    "rgr.score(x_test, y_test)"
   ]
  },
  {
   "cell_type": "code",
   "execution_count": 262,
   "id": "2ef5a464",
   "metadata": {},
   "outputs": [
    {
     "name": "stdout",
     "output_type": "stream",
     "text": [
      "-----\n"
     ]
    }
   ],
   "source": [
    "#extract only one data point/'frame' from each cell ID\n",
    "# used to located nearest cell for every cell\n",
    "\n",
    "SinglePoints = []\n",
    "\n",
    "# makes sure only one unique cell ID is placed into isomap\n",
    "uniqueSetTest = set()\n",
    "\n",
    "# used for testing just 10\n",
    "counter = 0\n",
    "\n",
    "\n",
    "#for xx in FilteredData2.iterrows():\n",
    "Sentinal = 0\n",
    "CellIDTimePoints = []\n",
    "for xx in dataXYZ.iterrows():   \n",
    "  \n",
    "    \n",
    "    if(xx[1][1] in cells and xx[1][1] not in uniqueSetTest):\n",
    "        \n",
    "        CellIDTimePoints.append(xx[1])\n",
    "        Sentinal = Sentinal + 1\n",
    "    \n",
    "    \n",
    "    if(Sentinal == 10):\n",
    "        SinglePoints.append(CellIDTimePoints)\n",
    "        CellIDTimePoints = []\n",
    "        uniqueSetTest.add(xx[1][1])\n",
    "        Sentinal = 0\n",
    "        \n",
    "    \n",
    "print(\"-----\")\n",
    "\n"
   ]
  },
  {
   "cell_type": "code",
   "execution_count": 290,
   "id": "0e92529b",
   "metadata": {},
   "outputs": [],
   "source": [
    "\n",
    "\n",
    "ColumnsList = []\n",
    "for x in range(0,10,1):\n",
    "    Column = []\n",
    "    \n",
    "    for y in range(len(SinglePoints)):\n",
    "        Column.append(SinglePoints[y][x])\n",
    "    ColumnsList.append(Column)\n",
    "\n",
    "\n",
    "\n"
   ]
  },
  {
   "cell_type": "code",
   "execution_count": 291,
   "id": "8ce5fbc1",
   "metadata": {},
   "outputs": [
    {
     "data": {
      "text/plain": [
       "(100, 2)"
      ]
     },
     "execution_count": 291,
     "metadata": {},
     "output_type": "execute_result"
    }
   ],
   "source": [
    "\n",
    "\n"
   ]
  },
  {
   "cell_type": "code",
   "execution_count": null,
   "id": "ad419011",
   "metadata": {},
   "outputs": [],
   "source": []
  },
  {
   "cell_type": "code",
   "execution_count": null,
   "id": "9333b00e",
   "metadata": {},
   "outputs": [],
   "source": []
  },
  {
   "cell_type": "code",
   "execution_count": 294,
   "id": "e3962842",
   "metadata": {},
   "outputs": [
    {
     "data": {
      "image/png": "[encoded data removed]",
      "text/plain": [
       "<Figure size 432x288 with 1 Axes>"
      ]
     },
     "metadata": {
      "needs_background": "light"
     },
     "output_type": "display_data"
    },
    {
     "data": {
      "image/png": "[encoded data removed]",
      "text/plain": [
       "<Figure size 432x288 with 1 Axes>"
      ]
     },
     "metadata": {
      "needs_background": "light"
     },
     "output_type": "display_data"
    },
    {
     "data": {
      "image/png": "[encoded data removed]",
      "text/plain": [
       "<Figure size 432x288 with 1 Axes>"
      ]
     },
     "metadata": {
      "needs_background": "light"
     },
     "output_type": "display_data"
    },
    {
     "data": {
      "image/png": "[encoded data removed]",
      "text/plain": [
       "<Figure size 432x288 with 1 Axes>"
      ]
     },
     "metadata": {
      "needs_background": "light"
     },
     "output_type": "display_data"
    },
    {
     "data": {
      "image/png": "[encoded data removed]",
      "text/plain": [
       "<Figure size 432x288 with 1 Axes>"
      ]
     },
     "metadata": {
      "needs_background": "light"
     },
     "output_type": "display_data"
    },
    {
     "data": {
      "image/png": "[encoded data removed]",
      "text/plain": [
       "<Figure size 432x288 with 1 Axes>"
      ]
     },
     "metadata": {
      "needs_background": "light"
     },
     "output_type": "display_data"
    },
    {
     "data": {
      "image/png": "[encoded data removed]",
      "text/plain": [
       "<Figure size 432x288 with 1 Axes>"
      ]
     },
     "metadata": {
      "needs_background": "light"
     },
     "output_type": "display_data"
    },
    {
     "data": {
      "image/png": "[encoded data removed]",
      "text/plain": [
       "<Figure size 432x288 with 1 Axes>"
      ]
     },
     "metadata": {
      "needs_background": "light"
     },
     "output_type": "display_data"
    },
    {
     "data": {
      "image/png": "[encoded data removed]",
      "text/plain": [
       "<Figure size 432x288 with 1 Axes>"
      ]
     },
     "metadata": {
      "needs_background": "light"
     },
     "output_type": "display_data"
    },
    {
     "data": {
      "image/png": "[encoded data removed]",
      "text/plain": [
       "<Figure size 432x288 with 1 Axes>"
      ]
     },
     "metadata": {
      "needs_background": "light"
     },
     "output_type": "display_data"
    }
   ],
   "source": [
    "fig , ax = plt.subplots()\n",
    "ax.set_xlim(-10000,10000)\n",
    "ax.set_ylim(-1000,1500)\n",
    "\n",
    "\n",
    "for x in range(0,10,1):\n",
    "    embedding = Isomap(n_components=2)\n",
    "    X_transformed = embedding.fit_transform(ColumnsList[x][:100])\n",
    "    X_transformed.shape\n",
    "    plt.figure()\n",
    "    plt.scatter(X_transformed.T[0],X_transformed.T[1])"
   ]
  },
  {
   "cell_type": "code",
   "execution_count": 244,
   "id": "69980955",
   "metadata": {},
   "outputs": [
    {
     "name": "stdout",
     "output_type": "stream",
     "text": [
      "[[   231.05883704 -17383.00971955]\n",
      " [   225.12824783 -17524.72405837]\n",
      " [   232.13234075 -17369.54254606]\n",
      " ...\n",
      " [   625.19432756     24.67044992]\n",
      " [   624.93155334     24.65449062]\n",
      " [   623.37965489     24.56024293]]\n"
     ]
    }
   ],
   "source": [
    "print(X_transformed)"
   ]
  },
  {
   "cell_type": "code",
   "execution_count": null,
   "id": "f00196ab",
   "metadata": {},
   "outputs": [],
   "source": []
  }
 ],
 "metadata": {
  "kernelspec": {
   "display_name": "Python 3",
   "language": "python",
   "name": "python3"
  },
  "language_info": {
   "codemirror_mode": {
    "name": "ipython",
    "version": 3
   },
   "file_extension": ".py",
   "mimetype": "text/x-python",
   "name": "python",
   "nbconvert_exporter": "python",
   "pygments_lexer": "ipython3",
   "version": "3.8.8"
  }
 },
 "nbformat": 4,
 "nbformat_minor": 5
}
